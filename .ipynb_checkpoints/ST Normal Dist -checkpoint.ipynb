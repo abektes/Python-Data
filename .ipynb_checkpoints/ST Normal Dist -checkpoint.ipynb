{
 "cells": [
  {
   "cell_type": "code",
   "execution_count": 13,
   "metadata": {
    "collapsed": false
   },
   "outputs": [
    {
     "data": {
      "text/plain": [
       "[<matplotlib.lines.Line2D at 0x1084e8190>]"
      ]
     },
     "execution_count": 13,
     "metadata": {},
     "output_type": "execute_result"
    },
    {
     "data": {
      "image/png": "[encoded data removed]",
      "text/plain": [
       "<matplotlib.figure.Figure at 0x107f87290>"
      ]
     },
     "metadata": {},
     "output_type": "display_data"
    }
   ],
   "source": [
    "#Import\n",
    "import matplotlib as mpl\n",
    "import matplotlib.pyplot as plt\n",
    "%matplotlib inline\n",
    "\n",
    "import numpy as np\n",
    "\n",
    "\n",
    "#Import the stats library\n",
    "from scipy import stats\n",
    "\n",
    "# Set the mean\n",
    "mean = 1\n",
    "\n",
    "#Set the standard deviation\n",
    "std = 1\n",
    "std2 = 1.3\n",
    "\n",
    "\n",
    "# Create a range\n",
    "X = np.arange(-4,4,0.01)\n",
    "\n",
    "#Create the normal distribution for the range\n",
    "YY = stats.norm.pdf(X,mean,std2)\n",
    "\n",
    "#\n",
    "plt.plot(X,YY)"
   ]
  },
  {
   "cell_type": "code",
   "execution_count": 14,
   "metadata": {
    "collapsed": true
   },
   "outputs": [],
   "source": [
    "mu,sigma = 0,0.1\n",
    "\n",
    "# Now grab 1000 random numbers from the normal distribution\n",
    "norm_set = np.random.normal(mu,sigma,1000)"
   ]
  },
  {
   "cell_type": "code",
   "execution_count": 15,
   "metadata": {
    "collapsed": false
   },
   "outputs": [
    {
     "data": {
      "text/plain": [
       "(array([  2.,   0.,   0.,   2.,   1.,   1.,   2.,   4.,   3.,   4.,   5.,\n",
       "         17.,  15.,  16.,  17.,  27.,  30.,  30.,  42.,  37.,  42.,  43.,\n",
       "         45.,  53.,  47.,  43.,  52.,  41.,  51.,  43.,  39.,  37.,  34.,\n",
       "         26.,  18.,  25.,  23.,  20.,  16.,   9.,   6.,   6.,  10.,   4.,\n",
       "          2.,   5.,   1.,   2.,   1.,   1.]),\n",
       " array([-0.31356032, -0.30129929, -0.28903826, -0.27677722, -0.26451619,\n",
       "        -0.25225516, -0.23999412, -0.22773309, -0.21547206, -0.20321103,\n",
       "        -0.19094999, -0.17868896, -0.16642793, -0.15416689, -0.14190586,\n",
       "        -0.12964483, -0.11738379, -0.10512276, -0.09286173, -0.0806007 ,\n",
       "        -0.06833966, -0.05607863, -0.0438176 , -0.03155656, -0.01929553,\n",
       "        -0.0070345 ,  0.00522654,  0.01748757,  0.0297486 ,  0.04200963,\n",
       "         0.05427067,  0.0665317 ,  0.07879273,  0.09105377,  0.1033148 ,\n",
       "         0.11557583,  0.12783687,  0.1400979 ,  0.15235893,  0.16461997,\n",
       "         0.176881  ,  0.18914203,  0.20140306,  0.2136641 ,  0.22592513,\n",
       "         0.23818616,  0.2504472 ,  0.26270823,  0.27496926,  0.2872303 ,\n",
       "         0.29949133]),\n",
       " <a list of 50 Patch objects>)"
      ]
     },
     "execution_count": 15,
     "metadata": {},
     "output_type": "execute_result"
    },
    {
     "data": {
      "image/png": "[encoded data removed]",
      "text/plain": [
       "<matplotlib.figure.Figure at 0x1082c9150>"
      ]
     },
     "metadata": {},
     "output_type": "display_data"
    }
   ],
   "source": [
    "#Now let's plot it using seaborn\n",
    "\n",
    "import seaborn as sns\n",
    "\n",
    "plt.hist(norm_set,bins=50)"
   ]
  },
  {
   "cell_type": "code",
   "execution_count": null,
   "metadata": {
    "collapsed": true
   },
   "outputs": [],
   "source": []
  }
 ],
 "metadata": {
  "kernelspec": {
   "display_name": "Python 2",
   "language": "python",
   "name": "python2"
  },
  "language_info": {
   "codemirror_mode": {
    "name": "ipython",
    "version": 2
   },
   "file_extension": ".py",
   "mimetype": "text/x-python",
   "name": "python",
   "nbconvert_exporter": "python",
   "pygments_lexer": "ipython2",
   "version": "2.7.10"
  }
 },
 "nbformat": 4,
 "nbformat_minor": 0
}
